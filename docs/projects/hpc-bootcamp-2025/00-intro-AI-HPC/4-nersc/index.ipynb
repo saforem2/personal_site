{
  "cells": [
    {
      "cell_type": "markdown",
      "metadata": {},
      "source": [
        "# Overview of the Argonne Leadership Computing Facility (ALCF)\n",
        "\n",
        "[Sam Foreman](https://samforeman.me)\n",
        "(\\[[ALCF](https://alcf.anl.gov/about/people/sam-foreman)\\](<https://alcf.anl.gov/about/people/sam-foreman>))  \n",
        "2025-07-15"
      ],
      "id": "9ad4a506-c7f3-4760-a539-06919f90e972"
    }
  ],
  "nbformat": 4,
  "nbformat_minor": 5,
  "metadata": {
    "kernelspec": {
      "display_name": "Python 3",
      "language": "python",
      "name": "python3"
    }
  }
}