{
  "cells": [
    {
      "cell_type": "markdown",
      "metadata": {},
      "source": [
        "# Introduction to AI on Supercomputers\n",
        "\n",
        "[Sam Foreman](https://samforeman.me)\n",
        "(\\[[ALCF](https://alcf.anl.gov/about/people/sam-foreman)\\](<https://alcf.anl.gov/about/people/sam-foreman>))  \n",
        "2025-07-15\n",
        "\n",
        "## Contents\n",
        "\n",
        "-   [0-compute-systems](./0-compute-systems/index.qmd)\n",
        "-   [1-shared-resources](./1-shared-resources/index.qmd)\n",
        "-   [2-jupyter-notebooks](./2-jupyter-notebooks/index.qmd)\n",
        "-   [3-homework](./3-homework/index.qmd)\n",
        "-   [4-nersc](./4-nersc/index.qmd)\n",
        "\n",
        "Link to original slides:\n",
        "<https://drive.google.com/file/d/1PH6HlXPhsVB1wDcEkfRSZrDQTqWBi7aH/view?usp=sharing>"
      ],
      "id": "e10b7370-2649-4be8-b642-9f871929977c"
    }
  ],
  "nbformat": 4,
  "nbformat_minor": 5,
  "metadata": {
    "kernelspec": {
      "name": "python3",
      "display_name": "Python 3 (ipykernel)",
      "language": "python",
      "path": "/Users/samforeman/projects/saforem2/personal_site_CLEAN/.venv/share/jupyter/kernels/python3"
    },
    "language_info": {
      "name": "python",
      "codemirror_mode": {
        "name": "ipython",
        "version": "3"
      },
      "file_extension": ".py",
      "mimetype": "text/x-python",
      "nbconvert_exporter": "python",
      "pygments_lexer": "ipython3",
      "version": "3.12.9"
    }
  }
}