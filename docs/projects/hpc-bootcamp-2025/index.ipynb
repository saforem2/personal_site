{
  "cells": [
    {
      "cell_type": "markdown",
      "metadata": {},
      "source": [
        "# Intro to HPC Bootcamp 2025\n",
        "\n",
        "[Sam Foreman](https://samforeman.me)\n",
        "(\\[[ALCF](https://alcf.anl.gov/about/people/sam-foreman)\\](<https://alcf.anl.gov/about/people/sam-foreman>))  \n",
        "2025-07-15\n",
        "\n",
        "-   [00-intro-AI-hpc/](./00-intro-AI-hpc/index.qmd)\n",
        "    -   [0-compute-systems](./00-intro-AI-hpc/0-compute-systems/index.qmd)\n",
        "    -   [1-shared-resources](./00-intro-AI-HPC/1-shared-resources/index.qmd)\n",
        "    -   [2-jupyter-notebooks](./00-intro-AI-hpc/2-jupyter-notebooks/index.qmd)\n",
        "    -   [3-homework](./00-intro-AI-hpc/3-homework/index.qmd)\n",
        "    -   [4-alcf](./00-intro-AI-hpc/4-nersc/index.qmd)\n",
        "    -   [5-mcmc-example](./00-intro-AI-hpc/5-mcmc-example/index.qmd)\n",
        "    -   [6-linear-regression](./00-intro-AI-hpc/6-linear-regression/index.qmd)\n",
        "-   [01-neural-networks/](../01-neural-networks/index.qmd)\n",
        "    -   [0-intro](../01-neural-networks/0-intro/index.qmd)\n",
        "    -   [1-mnist](../01-neural-networks/1-mnist/index.qmd)\n",
        "    -   [2-advanced](../01-neural-networks/2-advanced/index.qmd)\n",
        "    -   [3-conv-nets](../01-neural-networks/3-conv-nets/index.qmd)\n",
        "    -   [4-representation-learning](./4-representation-learning/index.qmd)\n",
        "-   [02-llms](./02-llms/index.qmd)\n",
        "    -   [0-intro-to-llms](./02-llms/0-intro-to-llms/index.qmd)"
      ],
      "id": "b11cd515-1e98-49a5-a0e2-e1042c57a2c1"
    }
  ],
  "nbformat": 4,
  "nbformat_minor": 5,
  "metadata": {
    "kernelspec": {
      "display_name": "Python 3",
      "language": "python",
      "name": "python3"
    }
  }
}